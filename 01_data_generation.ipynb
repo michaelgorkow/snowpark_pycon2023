{
 "cells": [
  {
   "cell_type": "code",
   "execution_count": 1,
   "id": "5cf216be",
   "metadata": {},
   "outputs": [],
   "source": [
    "import json\n",
    "from snowflake.snowpark.session import Session\n",
    "\n",
    "# Reading Snowflake Connection Details\n",
    "snowflake_connection_cfg = json.loads(open('snowflake_connection.json').read())\n",
    "\n",
    "# Creating Snowpark Session\n",
    "session = Session.builder.configs(snowflake_connection_cfg).create()\n",
    "\n",
    "# Create a fresh & new schema\n",
    "session.sql('CREATE OR REPLACE DATABASE PYCON_DEMO').collect()\n",
    "session.sql('CREATE SCHEMA PYCON_DEMO._0_RAW').collect()\n",
    "session.sql('CREATE SCHEMA PYCON_DEMO._1_ENRICHED').collect()\n",
    "session.sql('CREATE SCHEMA PYCON_DEMO._2_MODELLED').collect()\n",
    "session.use_schema('PYCON_DEMO._0_RAW')"
   ]
  },
  {
   "cell_type": "code",
   "execution_count": 2,
   "id": "7bcfaceb",
   "metadata": {},
   "outputs": [],
   "source": [
    "# Function to generate Data Creation SQL\n",
    "def generate_data(table_name, num_rows):\n",
    "    generate_data_sql = \"\"\"\n",
    "    -- Create fake data\n",
    "    create or replace table {} (email string, gender string, MEMBERSHIP_STATUS string,  MEMBERSHIP_LENGTH double, AVG_SESSION_LENGTH double, TIME_ON_APP double, TIME_ON_WEBSITE double, YEARLY_SPENT double) as \n",
    "    with profiles as (\n",
    "    select concat(lower(randstr(10, random())), '@', lower(randstr(5, random())), '.com') as EMAIL,\n",
    "           case when uniform(1,10,random())<=7 then 'MALE'\n",
    "                when uniform(1,10,random())<=10 then 'FEMALE'\n",
    "           end as GENDER,\n",
    "           uniform(100,75000,random()) / 100 as YEARLY_SPENT,\n",
    "           case when YEARLY_SPENT < 150 then 'BASIC'\n",
    "                when YEARLY_SPENT < 250 then 'BRONZE'\n",
    "                when YEARLY_SPENT < 350 then 'SILVER'\n",
    "                when YEARLY_SPENT < 550 then 'GOLD'\n",
    "                when YEARLY_SPENT < 650 then 'PLATIN'\n",
    "                when YEARLY_SPENT < 720 then 'DIAMOND'\n",
    "           end as MEMBERSHIP_STATUS,\n",
    "           case when YEARLY_SPENT < 150 then null\n",
    "                when YEARLY_SPENT < 250 then uniform(50,150,random()) / 100\n",
    "                when YEARLY_SPENT < 350 then uniform(250,350,random()) / 100\n",
    "                when YEARLY_SPENT < 550 then uniform(300,550,random()) / 100\n",
    "                when YEARLY_SPENT < 650 then uniform(500,750,random()) / 100\n",
    "                when YEARLY_SPENT < 720 then uniform(700,1000,random()) / 100\n",
    "           end as MEMBERSHIP_LENGTH,\n",
    "           case when YEARLY_SPENT < 120 then null\n",
    "                when YEARLY_SPENT < 150 then uniform(500,750,random()) / 100\n",
    "                when YEARLY_SPENT < 250 then uniform(700,1000,random()) / 100\n",
    "                when YEARLY_SPENT < 350 then uniform(900,2000,random()) / 100\n",
    "                when YEARLY_SPENT < 550 then uniform(1900,2700,random()) / 100\n",
    "                when YEARLY_SPENT < 650 then uniform(2500,3200,random()) / 100\n",
    "                when YEARLY_SPENT < 1000 then uniform(3000,4000,random()) / 100\n",
    "           end as AVG_SESSION_LENGTH,\n",
    "           case when YEARLY_SPENT < 150 then uniform(5000,7500,random()) / 100\n",
    "                when YEARLY_SPENT < 250 then uniform(7300,10000,random()) / 100\n",
    "                when YEARLY_SPENT < 350 then uniform(9500,20000,random()) / 100\n",
    "                when YEARLY_SPENT < 370 then null\n",
    "                when YEARLY_SPENT < 550 then uniform(19000,27000,random()) / 100\n",
    "                when YEARLY_SPENT < 650 then uniform(25000,32000,random()) / 100\n",
    "                when YEARLY_SPENT < 1000 then uniform(30000,40000,random()) / 100\n",
    "           end as TIME_ON_APP,\n",
    "           case when YEARLY_SPENT < 300 then uniform(5000,7500,random()) / 100\n",
    "                when YEARLY_SPENT < 500 then uniform(7000,15000,random()) / 100\n",
    "                when YEARLY_SPENT < 520 then null\n",
    "                when YEARLY_SPENT < 1000 then uniform(14000,30000,random()) / 100\n",
    "           end as TIME_ON_WEBSITE\n",
    "    from table(generator(rowcount=>{})))\n",
    "    select email, gender, MEMBERSHIP_STATUS, MEMBERSHIP_LENGTH, AVG_SESSION_LENGTH, TIME_ON_APP, TIME_ON_WEBSITE, YEARLY_SPENT from profiles;\n",
    "    \"\"\".format(table_name, num_rows)\n",
    "    return generate_data_sql"
   ]
  },
  {
   "cell_type": "code",
   "execution_count": 3,
   "id": "8a47c31c",
   "metadata": {},
   "outputs": [
    {
     "data": {
      "text/plain": [
       "[Row(status='Statement executed successfully.')]"
      ]
     },
     "execution_count": 3,
     "metadata": {},
     "output_type": "execute_result"
    }
   ],
   "source": [
    "session.sql('ALTER WAREHOUSE COMPUTE_WH SET WAREHOUSE_SIZE=XXXLARGE').collect()\n",
    "\n",
    "# Generating sample data\n",
    "# 1 million rows\n",
    "session.sql(generate_data('ECOMMERCE_CUSTOMERS_1M', 1000000)).collect()\n",
    "# 100 million rows\n",
    "session.sql(generate_data('ECOMMERCE_CUSTOMERS_100M', 100000000)).collect()\n",
    "\n",
    "session.sql('ALTER WAREHOUSE COMPUTE_WH SET WAREHOUSE_SIZE=XSMALL').collect()"
   ]
  }
 ],
 "metadata": {
  "kernelspec": {
   "display_name": "Python 3 (ipykernel)",
   "language": "python",
   "name": "python3"
  },
  "language_info": {
   "codemirror_mode": {
    "name": "ipython",
    "version": 3
   },
   "file_extension": ".py",
   "mimetype": "text/x-python",
   "name": "python",
   "nbconvert_exporter": "python",
   "pygments_lexer": "ipython3",
   "version": "3.8.13"
  }
 },
 "nbformat": 4,
 "nbformat_minor": 5
}
